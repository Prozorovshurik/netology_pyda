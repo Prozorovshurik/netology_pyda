{
 "cells": [
  {
   "cell_type": "markdown",
   "metadata": {},
   "source": [
    "**Домашнее задание**\n"
   ]
  },
  {
   "cell_type": "code",
   "execution_count": 2,
   "metadata": {},
   "outputs": [],
   "source": [
    "import pandas as pd"
   ]
  },
  {
   "cell_type": "markdown",
   "metadata": {},
   "source": [
    "**Задание 1**\n",
    "Скачайте с сайта https://grouplens.org/datasets/movielens/ датасет любого размера. Определите какому фильму было выставлено больше всего оценок 5.0."
   ]
  },
  {
   "cell_type": "code",
   "execution_count": 8,
   "metadata": {},
   "outputs": [
    {
     "name": "stdout",
     "output_type": "stream",
     "text": [
      "Wall time: 14.2 s\n"
     ]
    }
   ],
   "source": [
    "%%time\n",
    "movie_rates = pd.read_csv('ratings.csv')\n",
    "movie_id = pd.read_csv('movies.csv')"
   ]
  },
  {
   "cell_type": "code",
   "execution_count": 12,
   "metadata": {},
   "outputs": [
    {
     "data": {
      "text/html": [
       "<div>\n",
       "<style scoped>\n",
       "    .dataframe tbody tr th:only-of-type {\n",
       "        vertical-align: middle;\n",
       "    }\n",
       "\n",
       "    .dataframe tbody tr th {\n",
       "        vertical-align: top;\n",
       "    }\n",
       "\n",
       "    .dataframe thead th {\n",
       "        text-align: right;\n",
       "    }\n",
       "</style>\n",
       "<table border=\"1\" class=\"dataframe\">\n",
       "  <thead>\n",
       "    <tr style=\"text-align: right;\">\n",
       "      <th></th>\n",
       "      <th>movieId</th>\n",
       "      <th>title</th>\n",
       "      <th>genres</th>\n",
       "    </tr>\n",
       "  </thead>\n",
       "  <tbody>\n",
       "    <tr>\n",
       "      <td>314</td>\n",
       "      <td>318</td>\n",
       "      <td>Shawshank Redemption, The (1994)</td>\n",
       "      <td>Crime|Drama</td>\n",
       "    </tr>\n",
       "  </tbody>\n",
       "</table>\n",
       "</div>"
      ],
      "text/plain": [
       "     movieId                             title       genres\n",
       "314      318  Shawshank Redemption, The (1994)  Crime|Drama"
      ]
     },
     "execution_count": 12,
     "metadata": {},
     "output_type": "execute_result"
    }
   ],
   "source": [
    "five_stars_filter = movie_rates[(movie_rates['rating'] == 5.0)]\n",
    "max_stars = five_stars_filter['movieId'].value_counts().keys()\n",
    "#print(max_stars)#Control\n",
    "movie_id[(movie_id['movieId'] == max_stars[0])]\n",
    "\n",
    "#По моему можно сделать проще...как пока не придумал... трудно было  \"достать\""
   ]
  },
  {
   "cell_type": "markdown",
   "metadata": {},
   "source": [
    "**Задание 2**\n",
    "По данным файла power.csv посчитайте суммарное потребление стран Прибалтики (Латвия, Литва и Эстония) категорий 4, 12 и 21 за период с 2005 по 2010 года. Не учитывайте в расчетах отрицательные значения quantity."
   ]
  },
  {
   "cell_type": "code",
   "execution_count": 2,
   "metadata": {},
   "outputs": [
    {
     "data": {
      "text/plain": [
       "240580.0"
      ]
     },
     "execution_count": 2,
     "metadata": {},
     "output_type": "execute_result"
    }
   ],
   "source": [
    "data = pd.read_csv('power.csv')\n",
    "count_filter = data[ ((data['country']=='Latvia') | (data['country']=='Estonia') | (data['country']=='Lithuania')) & ((data['category']== 4 )|(data['category']== 12)|(data['category']== 21)) & ((data['quantity'] >= 0 )) & ((data['year'] >=2005 ) & (data['year'] <= 2010 ))]\n",
    "#print(count_filter['category'].unique())#Control\n",
    "#print(count_filter['year'].unique())#Control\n",
    "#print(count_filter['country'].unique())#Control\n",
    "count_filter['quantity'].sum()"
   ]
  },
  {
   "cell_type": "markdown",
   "metadata": {},
   "source": [
    "**Задание 3**\n",
    "Выберите страницу любого сайта с табличными данными. Импортируйте таблицы в pandas dataframe.\n",
    "Примеры страниц (необязательно брать именно эти): \n",
    "https://fortrader.org/quotes\n",
    "https://www.finanz.ru/valyuty/v-realnom-vremeni"
   ]
  },
  {
   "cell_type": "code",
   "execution_count": 7,
   "metadata": {},
   "outputs": [
    {
     "name": "stdout",
     "output_type": "stream",
     "text": [
      "<class 'pandas.core.frame.DataFrame'>\n",
      "RangeIndex: 12 entries, 0 to 11\n",
      "Data columns (total 7 columns):\n",
      "№          12 non-null int64\n",
      "Команда    12 non-null object\n",
      "И          12 non-null int64\n",
      "В(ВО)      12 non-null object\n",
      "П(ПО)      12 non-null object\n",
      "Ш          12 non-null object\n",
      "О          12 non-null int64\n",
      "dtypes: int64(3), object(4)\n",
      "memory usage: 800.0+ bytes\n",
      "None\n"
     ]
    },
    {
     "data": {
      "text/html": [
       "<div>\n",
       "<style scoped>\n",
       "    .dataframe tbody tr th:only-of-type {\n",
       "        vertical-align: middle;\n",
       "    }\n",
       "\n",
       "    .dataframe tbody tr th {\n",
       "        vertical-align: top;\n",
       "    }\n",
       "\n",
       "    .dataframe thead th {\n",
       "        text-align: right;\n",
       "    }\n",
       "</style>\n",
       "<table border=\"1\" class=\"dataframe\">\n",
       "  <thead>\n",
       "    <tr style=\"text-align: right;\">\n",
       "      <th></th>\n",
       "      <th>№</th>\n",
       "      <th>Команда</th>\n",
       "      <th>И</th>\n",
       "      <th>В(ВО)</th>\n",
       "      <th>П(ПО)</th>\n",
       "      <th>Ш</th>\n",
       "      <th>О</th>\n",
       "    </tr>\n",
       "  </thead>\n",
       "  <tbody>\n",
       "    <tr>\n",
       "      <td>0</td>\n",
       "      <td>1</td>\n",
       "      <td>ЦСКА</td>\n",
       "      <td>52</td>\n",
       "      <td>33(5)</td>\n",
       "      <td>10(4)</td>\n",
       "      <td>162-83</td>\n",
       "      <td>80</td>\n",
       "    </tr>\n",
       "    <tr>\n",
       "      <td>1</td>\n",
       "      <td>2</td>\n",
       "      <td>СКА</td>\n",
       "      <td>53</td>\n",
       "      <td>24(11)</td>\n",
       "      <td>13(5)</td>\n",
       "      <td>147-106</td>\n",
       "      <td>75</td>\n",
       "    </tr>\n",
       "    <tr>\n",
       "      <td>2</td>\n",
       "      <td>3</td>\n",
       "      <td>Йокерит</td>\n",
       "      <td>52</td>\n",
       "      <td>24(8)</td>\n",
       "      <td>13(7)</td>\n",
       "      <td>157-135</td>\n",
       "      <td>71</td>\n",
       "    </tr>\n",
       "    <tr>\n",
       "      <td>3</td>\n",
       "      <td>4</td>\n",
       "      <td>Динамо М</td>\n",
       "      <td>53</td>\n",
       "      <td>26(5)</td>\n",
       "      <td>15(7)</td>\n",
       "      <td>153-120</td>\n",
       "      <td>69</td>\n",
       "    </tr>\n",
       "    <tr>\n",
       "      <td>4</td>\n",
       "      <td>5</td>\n",
       "      <td>Спартак</td>\n",
       "      <td>53</td>\n",
       "      <td>22(8)</td>\n",
       "      <td>15(8)</td>\n",
       "      <td>150-120</td>\n",
       "      <td>68</td>\n",
       "    </tr>\n",
       "    <tr>\n",
       "      <td>5</td>\n",
       "      <td>6</td>\n",
       "      <td>Локомотив</td>\n",
       "      <td>52</td>\n",
       "      <td>19(9)</td>\n",
       "      <td>20(4)</td>\n",
       "      <td>137-130</td>\n",
       "      <td>60</td>\n",
       "    </tr>\n",
       "    <tr>\n",
       "      <td>6</td>\n",
       "      <td>7</td>\n",
       "      <td>Витязь</td>\n",
       "      <td>52</td>\n",
       "      <td>19(6)</td>\n",
       "      <td>19(8)</td>\n",
       "      <td>113-129</td>\n",
       "      <td>58</td>\n",
       "    </tr>\n",
       "    <tr>\n",
       "      <td>7</td>\n",
       "      <td>8</td>\n",
       "      <td>Торпедо</td>\n",
       "      <td>53</td>\n",
       "      <td>19(7)</td>\n",
       "      <td>23(4)</td>\n",
       "      <td>147-143</td>\n",
       "      <td>56</td>\n",
       "    </tr>\n",
       "    <tr>\n",
       "      <td>8</td>\n",
       "      <td>9</td>\n",
       "      <td>Сочи</td>\n",
       "      <td>52</td>\n",
       "      <td>13(7)</td>\n",
       "      <td>24(8)</td>\n",
       "      <td>104-140</td>\n",
       "      <td>48</td>\n",
       "    </tr>\n",
       "    <tr>\n",
       "      <td>9</td>\n",
       "      <td>10</td>\n",
       "      <td>Северсталь</td>\n",
       "      <td>53</td>\n",
       "      <td>11(8)</td>\n",
       "      <td>24(10)</td>\n",
       "      <td>108-146</td>\n",
       "      <td>48</td>\n",
       "    </tr>\n",
       "    <tr>\n",
       "      <td>10</td>\n",
       "      <td>11</td>\n",
       "      <td>Динамо Р</td>\n",
       "      <td>51</td>\n",
       "      <td>9(5)</td>\n",
       "      <td>31(6)</td>\n",
       "      <td>82-155</td>\n",
       "      <td>34</td>\n",
       "    </tr>\n",
       "    <tr>\n",
       "      <td>11</td>\n",
       "      <td>12</td>\n",
       "      <td>Динамо Мн</td>\n",
       "      <td>52</td>\n",
       "      <td>9(3)</td>\n",
       "      <td>30(10)</td>\n",
       "      <td>108-187</td>\n",
       "      <td>34</td>\n",
       "    </tr>\n",
       "  </tbody>\n",
       "</table>\n",
       "</div>"
      ],
      "text/plain": [
       "     №     Команда   И   В(ВО)   П(ПО)        Ш   О\n",
       "0    1        ЦСКА  52   33(5)   10(4)   162-83  80\n",
       "1    2         СКА  53  24(11)   13(5)  147-106  75\n",
       "2    3     Йокерит  52   24(8)   13(7)  157-135  71\n",
       "3    4    Динамо М  53   26(5)   15(7)  153-120  69\n",
       "4    5     Спартак  53   22(8)   15(8)  150-120  68\n",
       "5    6   Локомотив  52   19(9)   20(4)  137-130  60\n",
       "6    7      Витязь  52   19(6)   19(8)  113-129  58\n",
       "7    8     Торпедо  53   19(7)   23(4)  147-143  56\n",
       "8    9        Сочи  52   13(7)   24(8)  104-140  48\n",
       "9   10  Северсталь  53   11(8)  24(10)  108-146  48\n",
       "10  11    Динамо Р  51    9(5)   31(6)   82-155  34\n",
       "11  12   Динамо Мн  52    9(3)  30(10)  108-187  34"
      ]
     },
     "execution_count": 7,
     "metadata": {},
     "output_type": "execute_result"
    }
   ],
   "source": [
    "my_url_1='https://news.sportbox.ru/Vidy_sporta/Hokkej/KHL'\n",
    "\n",
    "my_data_frame = pd.read_html(my_url_1, encoding='utf-8')\n",
    "print(my_data_frame[0].info())#Control\n",
    "my_data_frame[0]\n",
    "\n"
   ]
  }
 ],
 "metadata": {
  "kernelspec": {
   "display_name": "Python 3",
   "language": "python",
   "name": "python3"
  },
  "language_info": {
   "codemirror_mode": {
    "name": "ipython",
    "version": 3
   },
   "file_extension": ".py",
   "mimetype": "text/x-python",
   "name": "python",
   "nbconvert_exporter": "python",
   "pygments_lexer": "ipython3",
   "version": "3.7.4"
  }
 },
 "nbformat": 4,
 "nbformat_minor": 2
}
