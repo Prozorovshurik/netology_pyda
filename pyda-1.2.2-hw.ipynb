{
 "cells": [
  {
   "cell_type": "markdown",
   "metadata": {},
   "source": [
    "## Задание 1"
   ]
  },
  {
   "cell_type": "markdown",
   "metadata": {},
   "source": [
    "Дан список с визитами по городам и странам. \n",
    "Напишите код, который возвращает отфильтрованный список geo_logs, содержащий только визиты из России."
   ]
  },
  {
   "cell_type": "code",
   "execution_count": 4,
   "metadata": {},
   "outputs": [],
   "source": [
    "geo_logs = [\n",
    "    {'visit1': ['Москва', 'Россия']},\n",
    "    {'visit2': ['Дели', 'Индия']},\n",
    "    {'visit3': ['Владимир', 'Россия']},\n",
    "    {'visit4': ['Лиссабон', 'Португалия']},\n",
    "    {'visit5': ['Париж', 'Франция']},\n",
    "    {'visit6': ['Лиссабон', 'Португалия']},\n",
    "    {'visit7': ['Тула', 'Россия']},\n",
    "    {'visit8': ['Тула', 'Россия']},\n",
    "    {'visit9': ['Курск', 'Россия']},\n",
    "    {'visit10': ['Архангельск', 'Россия']}\n",
    "]"
   ]
  },
  {
   "cell_type": "code",
   "execution_count": 131,
   "metadata": {},
   "outputs": [
    {
     "name": "stdout",
     "output_type": "stream",
     "text": [
      "[{'visit1': ['Москва', 'Россия']}, {'visit3': ['Владимир', 'Россия']}, {'visit7': ['Тула', 'Россия']}, {'visit8': ['Тула', 'Россия']}, {'visit9': ['Курск', 'Россия']}, {'visit10': ['Архангельск', 'Россия']}]\n"
     ]
    }
   ],
   "source": [
    "\n",
    "filtered_list=[]\n",
    "\n",
    "for rows in geo_logs: \n",
    "    for city, country in rows.values(): \n",
    "        if country == 'Россия':\n",
    "            filtered_list.append(rows)\n",
    "            \n",
    "            #print(rows)\n",
    "print(filtered_list)# Прочитав, буквально условие задачи решил, что требуется вывести именно отфильтрованный список состоящий из словарей. \n",
    "\n"
   ]
  },
  {
   "cell_type": "markdown",
   "metadata": {},
   "source": [
    "## Задание 2"
   ]
  },
  {
   "cell_type": "markdown",
   "metadata": {},
   "source": [
    "Выведите на экран все уникальные гео-ID из значений словаря ids. Т. е. список вида [213, 15, 54, 119, 98, 35]"
   ]
  },
  {
   "cell_type": "code",
   "execution_count": 174,
   "metadata": {},
   "outputs": [],
   "source": [
    "ids = {'user1': [213, 213, 213, 15, 213], \n",
    "       'user2': [54, 54, 119, 119, 119], \n",
    "       'user3': [213, 98, 98, 35]}"
   ]
  },
  {
   "cell_type": "code",
   "execution_count": 181,
   "metadata": {},
   "outputs": [
    {
     "name": "stdout",
     "output_type": "stream",
     "text": [
      "[98, 35, 15, 213, 54, 119]\n"
     ]
    }
   ],
   "source": [
    "uni=set()\n",
    "\n",
    "for val, geo in ids.items(): \n",
    "    #print(val,\"&\", geo) #проверка\n",
    "    for g_id in geo:\n",
    "        uni.add(g_id)\n",
    "print(list(uni))\n"
   ]
  },
  {
   "cell_type": "markdown",
   "metadata": {},
   "source": [
    "## Задание 3"
   ]
  },
  {
   "cell_type": "markdown",
   "metadata": {},
   "source": [
    "Дан список поисковых запросов. Получить распределение количества слов в них. \n",
    "Т. е. поисковых запросов из одного - слова 5%, из двух - 7%, из трех - 3% и т.д."
   ]
  },
  {
   "cell_type": "code",
   "execution_count": 156,
   "metadata": {},
   "outputs": [],
   "source": [
    "queries = [\n",
    "    'смотреть сериалы онлайн',\n",
    "    'новости спорта',\n",
    "    'афиша кино',\n",
    "    'курс доллара',\n",
    "    'сериалы этим летом',\n",
    "    'курс по питону',\n",
    "    'сериалы про спорт'\n",
    "]"
   ]
  },
  {
   "cell_type": "code",
   "execution_count": 157,
   "metadata": {},
   "outputs": [
    {
     "name": "stdout",
     "output_type": "stream",
     "text": [
      "В списке поисковых запросов:\n",
      "Фраз состоящих из 2-х слов 42.86 процентов\n",
      "Фраз состоящих из 3-х слов 57.14 процентов\n"
     ]
    }
   ],
   "source": [
    "#Первое решение(длинное и не оптимальное, но легко читаемое):\n",
    "\n",
    "\n",
    "qnt= [] #количество слов в фразах списка\n",
    "d_fraze={}# словарь уникальное ззначений количества слов в фразе: процентное распределение в списке\n",
    "uniq=set()# множество для последующей итерации по уникальным значениям количества слов в фразе (ключи для d_fraze)\n",
    "counter=0 #счётчик подсчёта количества фраз(итераций) в списке\n",
    "\n",
    "for fraze in queries:\n",
    "        qnt.append(fraze.count(' ')+1)#количество слов больше на 1 от кол-ва пробелов и добавим в список слов\n",
    "        uniq.add(qnt[-1])        \n",
    "        counter+=1 #counter+1\n",
    "\n",
    "\n",
    "#print(qnt, \"Counter\", counter)#контроль\n",
    "\n",
    "for num in qnt:\n",
    "    d_fraze[num]=round((qnt.count(num)/counter)*100,2)\n",
    "    #print(num, qnt.count(num)/counter)#контроль\n",
    "\n",
    "\n",
    "print('В списке поисковых запросов:')\n",
    "for no_of_words in uniq:\n",
    "    print('Фраз состоящих из ', no_of_words, '-х слов ', d_fraze.get(no_of_words),' процентов', sep=\"\")\n",
    "#print('Поисковых запросов из:', qnt, 'слова', d_fraze.get(num),'процентов')\n",
    "\n",
    "  #добавить в словарь? множество? может в словарь из кол-во букв: значение и на печать"
   ]
  },
  {
   "cell_type": "code",
   "execution_count": 168,
   "metadata": {},
   "outputs": [
    {
     "name": "stdout",
     "output_type": "stream",
     "text": [
      "В списке поисковых запросов:\n",
      "Фраз из 3-х слов 57.14 процентов\n",
      "Фраз из 2-х слов 42.86 процентов\n"
     ]
    }
   ],
   "source": [
    "#Второе решение попытался немного оптимизировать код.\n",
    "qnt= [] #количество слов в фразах списка\n",
    "d_fraze={}# словарь уникальное ззначений количества слов в фразе: процентное распределение в списке\n",
    "counter=0 #счётчик подсчёта количества фраз(итераций) в списке\n",
    "\n",
    "for fraze in queries: #определяем количество слов в фразах и количество фраз\n",
    "        qnt.append(fraze.count(' ')+1)#количество слов больше на 1 от кол-ва пробелов и добавим в список слов   \n",
    "        counter+=1 \n",
    "#print(qnt, \"Counter\", counter)#контроль\n",
    "\n",
    "for num in qnt:\n",
    "    d_fraze[num]=round((qnt.count(num)/counter)*100,2) #подсчёт распределения и заполнение словаря\n",
    "    #print(num, qnt.count(num)/counter)#контроль\n",
    "print('В списке поисковых запросов:')\n",
    "for words in d_fraze.keys(): #т.к. итерируем словарь информация при выводе не сортирована\n",
    "    print('Фраз из ', words, '-х слов ', d_fraze.get(words),' процентов', sep=\"\")\n",
    "\n"
   ]
  },
  {
   "cell_type": "markdown",
   "metadata": {},
   "source": [
    "## Задание 4"
   ]
  },
  {
   "cell_type": "markdown",
   "metadata": {},
   "source": [
    "Дана статистика рекламных каналов по объемам продаж. Напишите скрипт, который возвращает название канала с максимальным объемом.\n",
    "Т. е. в данном примере скрипт должен возвращать 'yandex'."
   ]
  },
  {
   "cell_type": "code",
   "execution_count": 236,
   "metadata": {},
   "outputs": [
    {
     "name": "stdout",
     "output_type": "stream",
     "text": [
      "Каналы с максимальным объёмом продаж:\n",
      "-  Yandex\n"
     ]
    }
   ],
   "source": [
    "stats = {'facebook': 55, 'yandex': 120, 'vk': 115, 'google': 99, 'email': 42, 'ok': 98,}\n",
    "\n",
    "#По сути задача найти максимальное значение в словаре, и вывести ключ содержащий это значение\n",
    "val_list=[]#список значений\n",
    "for val in stats.values():\n",
    "    val_list.append(val)\n",
    "print('Каналы с максимальным объёмом продаж:')\n",
    "for comp, sales in stats.items():\n",
    "        reversed_stats={}\n",
    "        reversed_stats[sales]=comp\n",
    "        for sales, comp in reversed_stats.items():\n",
    "            if sales== max(val_list):\n",
    "                print('- ', comp.capitalize())\n",
    "\n"
   ]
  },
  {
   "cell_type": "code",
   "execution_count": null,
   "metadata": {},
   "outputs": [],
   "source": []
  },
  {
   "cell_type": "code",
   "execution_count": null,
   "metadata": {},
   "outputs": [],
   "source": []
  },
  {
   "cell_type": "code",
   "execution_count": null,
   "metadata": {},
   "outputs": [],
   "source": []
  }
 ],
 "metadata": {
  "kernelspec": {
   "display_name": "Python 3",
   "language": "python",
   "name": "python3"
  },
  "language_info": {
   "codemirror_mode": {
    "name": "ipython",
    "version": 3
   },
   "file_extension": ".py",
   "mimetype": "text/x-python",
   "name": "python",
   "nbconvert_exporter": "python",
   "pygments_lexer": "ipython3",
   "version": "3.7.4"
  }
 },
 "nbformat": 4,
 "nbformat_minor": 2
}
