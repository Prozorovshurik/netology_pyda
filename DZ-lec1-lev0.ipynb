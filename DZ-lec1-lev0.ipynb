{
 "cells": [
  {
   "cell_type": "code",
   "execution_count": 7,
   "metadata": {},
   "outputs": [],
   "source": [
    "import numpy as np\n",
    "import matplotlib.pyplot as plt\n",
    "import pandas as pd\n",
    "%matplotlib inline"
   ]
  },
  {
   "cell_type": "markdown",
   "metadata": {},
   "source": [
    "#### Уровень 0:\n",
    "\n",
    "Найти угол между векторами x и y\n"
   ]
  },
  {
   "cell_type": "markdown",
   "metadata": {},
   "source": [
    "#### Даны вектора x=(1,1), y=(2, 0) и z = (0,2)"
   ]
  },
  {
   "cell_type": "code",
   "execution_count": 2,
   "metadata": {},
   "outputs": [],
   "source": [
    "x = np.array([1,1])\n",
    "y = np.array([2,0])\n",
    "z = np.array([0,2])"
   ]
  },
  {
   "cell_type": "markdown",
   "metadata": {},
   "source": [
    "#### Изобразить вектора на экране"
   ]
  },
  {
   "cell_type": "code",
   "execution_count": 14,
   "metadata": {},
   "outputs": [
    {
     "data": {
      "image/png": "[encoded data removed]",
      "text/plain": [
       "<Figure size 432x288 with 1 Axes>"
      ]
     },
     "metadata": {
      "needs_background": "light"
     },
     "output_type": "display_data"
    }
   ],
   "source": [
    "\n",
    "plt.plot(x[0],x[1],'X')\n",
    "plt.plot(y[0],y[1],'X')\n",
    "plt.plot(z[0],z[1],'X')\n",
    "plt.grid()\n",
    "\n"
   ]
  },
  {
   "cell_type": "markdown",
   "metadata": {},
   "source": [
    "#### Изобразить точку x + y + z"
   ]
  },
  {
   "cell_type": "code",
   "execution_count": 4,
   "metadata": {},
   "outputs": [
    {
     "data": {
      "text/plain": [
       "array([3, 3])"
      ]
     },
     "execution_count": 4,
     "metadata": {},
     "output_type": "execute_result"
    }
   ],
   "source": [
    "a = x + y + z\n",
    "a"
   ]
  },
  {
   "cell_type": "code",
   "execution_count": 11,
   "metadata": {},
   "outputs": [
    {
     "data": {
      "image/png": "[encoded data removed]",
      "text/plain": [
       "<Figure size 432x288 with 1 Axes>"
      ]
     },
     "metadata": {
      "needs_background": "light"
     },
     "output_type": "display_data"
    }
   ],
   "source": [
    "\n",
    "plt.plot(x[0],x[1],'x', c='r')\n",
    "plt.plot(y[0],y[1],'x', c= 'g')\n",
    "plt.plot(z[0],z[1],'x', c= 'b')\n",
    "plt.plot(a[0],a[1],'o',c='y')#Точка а=x + y + z\n",
    "plt.grid()"
   ]
  },
  {
   "cell_type": "markdown",
   "metadata": {},
   "source": [
    "#### Найти угол между векторами x и y"
   ]
  },
  {
   "cell_type": "code",
   "execution_count": 16,
   "metadata": {},
   "outputs": [
    {
     "name": "stdout",
     "output_type": "stream",
     "text": [
      "Угол между векторами X и Y равен: -0.7853981633974483\n"
     ]
    }
   ],
   "source": [
    "angle = np.math.atan2(np.linalg.det([x,y]),np.dot(x,y))\n",
    "print ('Угол между векторами X и Y равен:', angle)"
   ]
  },
  {
   "cell_type": "code",
   "execution_count": null,
   "metadata": {},
   "outputs": [],
   "source": []
  },
  {
   "cell_type": "code",
   "execution_count": null,
   "metadata": {},
   "outputs": [],
   "source": []
  },
  {
   "cell_type": "code",
   "execution_count": null,
   "metadata": {},
   "outputs": [],
   "source": []
  },
  {
   "cell_type": "markdown",
   "metadata": {},
   "source": [
    "Уровень 1:\n",
    "Даны дома из Бостона\n",
    "Выбрать любые n домов, образующих базис в пространстве признаков дома (все колонки, кроме medv)\n",
    "Написать код разложения дома по указанному базису"
   ]
  },
  {
   "cell_type": "code",
   "execution_count": 8,
   "metadata": {},
   "outputs": [
    {
     "data": {
      "text/html": [
       "<div>\n",
       "<style scoped>\n",
       "    .dataframe tbody tr th:only-of-type {\n",
       "        vertical-align: middle;\n",
       "    }\n",
       "\n",
       "    .dataframe tbody tr th {\n",
       "        vertical-align: top;\n",
       "    }\n",
       "\n",
       "    .dataframe thead th {\n",
       "        text-align: right;\n",
       "    }\n",
       "</style>\n",
       "<table border=\"1\" class=\"dataframe\">\n",
       "  <thead>\n",
       "    <tr style=\"text-align: right;\">\n",
       "      <th></th>\n",
       "      <th>posterid</th>\n",
       "      <th>Haustyp</th>\n",
       "      <th>Angebotstyp</th>\n",
       "      <th>Wohnflaeche__m²_</th>\n",
       "      <th>Zimmer</th>\n",
       "      <th>abtest</th>\n",
       "      <th>plz</th>\n",
       "      <th>Verkaeufer</th>\n",
       "      <th>yo_m</th>\n",
       "      <th>Baujahr</th>\n",
       "      <th>...</th>\n",
       "      <th>Verfuegbar_ab_Jahr</th>\n",
       "      <th>Dachboden</th>\n",
       "      <th>Verfuegbar_ab_Monat</th>\n",
       "      <th>Nebenkosten__in_€_</th>\n",
       "      <th>Kaution__in_€_</th>\n",
       "      <th>Haustiere_erlaubt</th>\n",
       "      <th>Warmmiete__in_€_</th>\n",
       "      <th>Heizkosten__in_€_</th>\n",
       "      <th>WG_geeignet</th>\n",
       "      <th>Denkmalobjekt</th>\n",
       "    </tr>\n",
       "  </thead>\n",
       "  <tbody>\n",
       "    <tr>\n",
       "      <th>0</th>\n",
       "      <td>50316225</td>\n",
       "      <td>einfamilienhaus</td>\n",
       "      <td>Angebot</td>\n",
       "      <td>160</td>\n",
       "      <td>6</td>\n",
       "      <td>control</td>\n",
       "      <td>33378</td>\n",
       "      <td>gewerblich</td>\n",
       "      <td>A</td>\n",
       "      <td>1928.0</td>\n",
       "      <td>...</td>\n",
       "      <td>NaN</td>\n",
       "      <td>NaN</td>\n",
       "      <td>NaN</td>\n",
       "      <td>NaN</td>\n",
       "      <td>NaN</td>\n",
       "      <td>NaN</td>\n",
       "      <td>NaN</td>\n",
       "      <td>NaN</td>\n",
       "      <td>NaN</td>\n",
       "      <td>NaN</td>\n",
       "    </tr>\n",
       "    <tr>\n",
       "      <th>1</th>\n",
       "      <td>50379245</td>\n",
       "      <td>mehrfamilienhaus</td>\n",
       "      <td>Angebot</td>\n",
       "      <td>160</td>\n",
       "      <td>8.0</td>\n",
       "      <td>control</td>\n",
       "      <td>65207</td>\n",
       "      <td>gewerblich</td>\n",
       "      <td>A</td>\n",
       "      <td>1968.0</td>\n",
       "      <td>...</td>\n",
       "      <td>NaN</td>\n",
       "      <td>NaN</td>\n",
       "      <td>NaN</td>\n",
       "      <td>NaN</td>\n",
       "      <td>NaN</td>\n",
       "      <td>NaN</td>\n",
       "      <td>NaN</td>\n",
       "      <td>NaN</td>\n",
       "      <td>NaN</td>\n",
       "      <td>NaN</td>\n",
       "    </tr>\n",
       "    <tr>\n",
       "      <th>2</th>\n",
       "      <td>40815451</td>\n",
       "      <td>einfamilienhaus</td>\n",
       "      <td>Angebot</td>\n",
       "      <td>120</td>\n",
       "      <td>4</td>\n",
       "      <td>control</td>\n",
       "      <td>54647</td>\n",
       "      <td>gewerblich</td>\n",
       "      <td>A</td>\n",
       "      <td>1750.0</td>\n",
       "      <td>...</td>\n",
       "      <td>NaN</td>\n",
       "      <td>NaN</td>\n",
       "      <td>NaN</td>\n",
       "      <td>NaN</td>\n",
       "      <td>NaN</td>\n",
       "      <td>NaN</td>\n",
       "      <td>NaN</td>\n",
       "      <td>NaN</td>\n",
       "      <td>NaN</td>\n",
       "      <td>NaN</td>\n",
       "    </tr>\n",
       "    <tr>\n",
       "      <th>3</th>\n",
       "      <td>49513983</td>\n",
       "      <td>einfamilienhaus</td>\n",
       "      <td>Angebot</td>\n",
       "      <td>140</td>\n",
       "      <td>5</td>\n",
       "      <td>control</td>\n",
       "      <td>7646</td>\n",
       "      <td>gewerblich</td>\n",
       "      <td>A</td>\n",
       "      <td>2017.0</td>\n",
       "      <td>...</td>\n",
       "      <td>NaN</td>\n",
       "      <td>NaN</td>\n",
       "      <td>NaN</td>\n",
       "      <td>NaN</td>\n",
       "      <td>NaN</td>\n",
       "      <td>NaN</td>\n",
       "      <td>NaN</td>\n",
       "      <td>NaN</td>\n",
       "      <td>NaN</td>\n",
       "      <td>NaN</td>\n",
       "    </tr>\n",
       "    <tr>\n",
       "      <th>4</th>\n",
       "      <td>49797192</td>\n",
       "      <td>einfamilienhaus</td>\n",
       "      <td>Angebot</td>\n",
       "      <td>80</td>\n",
       "      <td>4</td>\n",
       "      <td>control</td>\n",
       "      <td>54597</td>\n",
       "      <td>gewerblich</td>\n",
       "      <td>A</td>\n",
       "      <td>1900.0</td>\n",
       "      <td>...</td>\n",
       "      <td>NaN</td>\n",
       "      <td>NaN</td>\n",
       "      <td>NaN</td>\n",
       "      <td>NaN</td>\n",
       "      <td>NaN</td>\n",
       "      <td>NaN</td>\n",
       "      <td>NaN</td>\n",
       "      <td>NaN</td>\n",
       "      <td>NaN</td>\n",
       "      <td>NaN</td>\n",
       "    </tr>\n",
       "  </tbody>\n",
       "</table>\n",
       "<p>5 rows × 42 columns</p>\n",
       "</div>"
      ],
      "text/plain": [
       "   posterid           Haustyp Angebotstyp  Wohnflaeche__m²_ Zimmer   abtest  \\\n",
       "0  50316225   einfamilienhaus     Angebot               160      6  control   \n",
       "1  50379245  mehrfamilienhaus     Angebot               160    8.0  control   \n",
       "2  40815451   einfamilienhaus     Angebot               120      4  control   \n",
       "3  49513983   einfamilienhaus     Angebot               140      5  control   \n",
       "4  49797192   einfamilienhaus     Angebot                80      4  control   \n",
       "\n",
       "     plz  Verkaeufer yo_m  Baujahr  ...  Verfuegbar_ab_Jahr Dachboden  \\\n",
       "0  33378  gewerblich    A   1928.0  ...                 NaN       NaN   \n",
       "1  65207  gewerblich    A   1968.0  ...                 NaN       NaN   \n",
       "2  54647  gewerblich    A   1750.0  ...                 NaN       NaN   \n",
       "3   7646  gewerblich    A   2017.0  ...                 NaN       NaN   \n",
       "4  54597  gewerblich    A   1900.0  ...                 NaN       NaN   \n",
       "\n",
       "   Verfuegbar_ab_Monat Nebenkosten__in_€_  Kaution__in_€_ Haustiere_erlaubt  \\\n",
       "0                  NaN                NaN             NaN               NaN   \n",
       "1                  NaN                NaN             NaN               NaN   \n",
       "2                  NaN                NaN             NaN               NaN   \n",
       "3                  NaN                NaN             NaN               NaN   \n",
       "4                  NaN                NaN             NaN               NaN   \n",
       "\n",
       "  Warmmiete__in_€_  Heizkosten__in_€_ WG_geeignet Denkmalobjekt  \n",
       "0              NaN                NaN         NaN           NaN  \n",
       "1              NaN                NaN         NaN           NaN  \n",
       "2              NaN                NaN         NaN           NaN  \n",
       "3              NaN                NaN         NaN           NaN  \n",
       "4              NaN                NaN         NaN           NaN  \n",
       "\n",
       "[5 rows x 42 columns]"
      ]
     },
     "execution_count": 8,
     "metadata": {},
     "output_type": "execute_result"
    }
   ],
   "source": [
    "url=\"http://yustiks.ru/dataset/houses.json\"\n",
    "df=pd.read_json(url)\n",
    "df.head()"
   ]
  },
  {
   "cell_type": "code",
   "execution_count": null,
   "metadata": {},
   "outputs": [],
   "source": []
  },
  {
   "cell_type": "code",
   "execution_count": null,
   "metadata": {},
   "outputs": [],
   "source": []
  },
  {
   "cell_type": "code",
   "execution_count": null,
   "metadata": {},
   "outputs": [],
   "source": []
  },
  {
   "cell_type": "code",
   "execution_count": null,
   "metadata": {},
   "outputs": [],
   "source": []
  },
  {
   "cell_type": "code",
   "execution_count": null,
   "metadata": {},
   "outputs": [],
   "source": []
  }
 ],
 "metadata": {
  "kernelspec": {
   "display_name": "Python 3",
   "language": "python",
   "name": "python3"
  },
  "language_info": {
   "codemirror_mode": {
    "name": "ipython",
    "version": 3
   },
   "file_extension": ".py",
   "mimetype": "text/x-python",
   "name": "python",
   "nbconvert_exporter": "python",
   "pygments_lexer": "ipython3",
   "version": "3.7.6"
  }
 },
 "nbformat": 4,
 "nbformat_minor": 4
}
