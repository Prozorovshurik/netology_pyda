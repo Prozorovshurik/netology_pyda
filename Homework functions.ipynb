{
 "cells": [
  {
   "cell_type": "markdown",
   "metadata": {},
   "source": [
    "## Задание 1"
   ]
  },
  {
   "cell_type": "markdown",
   "metadata": {},
   "source": [
    "Дан список вида:"
   ]
  },
  {
   "cell_type": "code",
   "execution_count": 89,
   "metadata": {},
   "outputs": [
    {
     "name": "stdout",
     "output_type": "stream",
     "text": [
      "Сумма значений по диагонали равна:  103\n"
     ]
    }
   ],
   "source": [
    "#Дан список со списками со значениями, функция итерирует списки в списке и возвращает суму значений (как описать индекс значений??)\n",
    "#описать индекс списка можно к i первого элемента прибавлять кол-во элементов в списке [0]+4=[4], НО значения должны быть в 1 списке\n",
    "data = [\n",
    "    [13, 25, 23, 34],\n",
    "    [45, 32, 44, 47],\n",
    "    [12, 33, 23, 95],\n",
    "    [13, 53, 34, 35]\n",
    "]\n",
    "\n",
    "def diag_sum(val_list):\n",
    "    i=0\n",
    "    result=0\n",
    "    for rows in val_list:\n",
    "        result+=rows[i]\n",
    "        #print(rows[i])# control-line\n",
    "        i+=1\n",
    "        \n",
    "    return result#вернёт пока None\n",
    "\n",
    "\n",
    "print('Сумма значений по диагонали равна: ',diag_sum(data))#Напечатает то что вернули None"
   ]
  },
  {
   "cell_type": "markdown",
   "metadata": {},
   "source": [
    "Напишите функцию, которая возвращает сумму элементов на диагонали. Т. е. 13+32+23+35.  \n",
    "Список может быть любой длины, но всегда является \"квадратным\" (количество элементов во вложенных списках равно их количеству)."
   ]
  },
  {
   "cell_type": "markdown",
   "metadata": {},
   "source": [
    "## Задание 2"
   ]
  },
  {
   "cell_type": "markdown",
   "metadata": {},
   "source": [
    "Напишите функцию, возвращающую сумму первых n чисел Фибоначчи (для этого вам может понадобится ознакомиться с рекурсией)."
   ]
  },
  {
   "cell_type": "code",
   "execution_count": 136,
   "metadata": {},
   "outputs": [
    {
     "name": "stdout",
     "output_type": "stream",
     "text": [
      "Введи количество знаков в последовательности Фибоначчи: 5\n",
      "Последовательность Фибоначчи:  [1, 2, 3, 5, 8]\n"
     ]
    }
   ],
   "source": [
    "\n",
    "def fib( num):\n",
    "    #print(num)\n",
    "    f1 = 0\n",
    "    f2 = 1\n",
    "    i = 0\n",
    "    fib_list=[]\n",
    "    while i < num :\n",
    "        fib_sum = f1 + f2\n",
    "        f1 = f2\n",
    "        f2 = fib_sum\n",
    "        i =  i + 1\n",
    "        fib_list.append(fib_sum)\n",
    "        #print(fib_sum)\n",
    "    \n",
    "  \n",
    "    return fib_list\n",
    "    \n",
    "print('Последовательность Фибоначчи: ', fib(int(input('Введи количество знаков в последовательности Фибоначчи: '))))\n",
    "\n",
    "#Неообходимо разобраться как вызвать функцию саму(это не проблема) из себя и потом остановить( а это проблема))"
   ]
  },
  {
   "cell_type": "markdown",
   "metadata": {},
   "source": [
    "## Задание 3\n"
   ]
  },
  {
   "cell_type": "markdown",
   "metadata": {},
   "source": [
    "Напишите функцию, преобразующую произвольный список вида ['2018-01-01', 'yandex', 'cpc', 100] (он может быть любой длины) в словарь {'2018-01-01': {'yandex': {'cpc': 100}}}"
   ]
  },
  {
   "cell_type": "code",
   "execution_count": 2,
   "metadata": {},
   "outputs": [
    {
     "name": "stdout",
     "output_type": "stream",
     "text": [
      "Func {'2018-01-01': {'yandex': {'cpc': {100: {'Далее тест:': {654345: {'hvcvv': {'nbuyvyuvu': {'bhvv': {'knnknn': 876}}}}}}}}}}\n"
     ]
    }
   ],
   "source": [
    "#Дан простой список преобразовать в словарь элемент списка[0] ключ словаря с оставшимися элементами, \n",
    "#который ключ словаря с оставшимися и тд...\n",
    "test_list=['2018-01-01', 'yandex', 'cpc', 100, 'Далее тест:', 654345, 'hvcvv', 'nbuyvyuvu', 'bhvv', {'knnknn':876}]\n",
    "\n",
    "def dic_making (any_list):\n",
    "    \n",
    "    max_index = len(any_list)-1\n",
    "    start_dic = {any_list[max_index-1]:any_list[max_index]}\n",
    "    max_index -= 1\n",
    "    while max_index > 0:\n",
    "        new_dic = {any_list[max_index-1]:start_dic}\n",
    "        start_dic = new_dic\n",
    "        #print('nd',new_dic, 'start_d:',start_dic) #control_line\n",
    "        max_index -= 1\n",
    "    #print('No of steps:',max_index) #control_line\n",
    "    \n",
    "    return new_dic\n",
    "\n",
    "print ('Func',dic_making(test_list))\n",
    "\n",
    "#Основной сложностью было разместить операцию уменьшения индекса в правильном месте: \"убил\" на это часа 3!!!, запутался и подобрал перебором"
   ]
  },
  {
   "cell_type": "code",
   "execution_count": null,
   "metadata": {},
   "outputs": [],
   "source": []
  },
  {
   "cell_type": "markdown",
   "metadata": {},
   "source": [
    "## Задание 4"
   ]
  },
  {
   "cell_type": "markdown",
   "metadata": {},
   "source": [
    "Вы работаете секретарем и вам постоянно приходят различные документы. Вы должны быть очень внимательны, чтобы не потерять ни один документ. Каталог документов хранится в следующем виде:"
   ]
  },
  {
   "cell_type": "code",
   "execution_count": 5,
   "metadata": {},
   "outputs": [],
   "source": [
    "documents = [\n",
    "    {'type': 'passport', 'number': '2207 876234', 'name': 'Василий Гупкин'},\n",
    "    {'type': 'invoice', 'number': '11-2', 'name': 'Геннадий Покемонов'},\n",
    "    {'type': 'insurance', 'number': '10006', 'name': 'Аристарх Павлов'}\n",
    "]"
   ]
  },
  {
   "cell_type": "code",
   "execution_count": 6,
   "metadata": {},
   "outputs": [],
   "source": [
    "directories = {\n",
    "    '1': ['2207 876234', '11-2', '5455 028765'],\n",
    "    '2': ['10006', '5400 028765', '5455 002299'],\n",
    "    '3': []\n",
    "}"
   ]
  },
  {
   "cell_type": "markdown",
   "metadata": {},
   "source": [
    "Задание в одгом блоке "
   ]
  },
  {
   "cell_type": "code",
   "execution_count": 22,
   "metadata": {},
   "outputs": [
    {
     "name": "stdout",
     "output_type": "stream",
     "text": [
      "Введите команду: m\n",
      "Введите номер переносимого документа: 4543\n",
      "Введите номер целевой папки: 3\n",
      "Before operation {'1': ['2207 876234', '5455 028765'], '2': ['10006', '5400 028765', '5455 002299', '11-2'], '3': ['11111'], '5': []}\n",
      "After operation {'1': ['2207 876234', '5455 028765'], '2': ['10006', '5400 028765', '5455 002299', '11-2'], '3': ['11111', '4543'], '5': []}\n"
     ]
    }
   ],
   "source": [
    "def find_name(doc_num):\n",
    "    for item in documents:\n",
    "        if doc_num in item.values():\n",
    "            #print(item.get('name'))\n",
    "            #print (name)#Control-line\n",
    "            result= item.get('name')\n",
    "    print('Владелец документа: ', result)\n",
    "    #return print('Владелец документа: ', result)\n",
    "\n",
    "#find_name(input('Введите номер документа: '))\n",
    "\n",
    "def find_shelf(doc_num):\n",
    "    for shelf_no, values in directories.items():\n",
    "        for item in values:\n",
    "            #print(item)\n",
    "            if item == doc_num:\n",
    "                print('Документ находится на полке №: ', shelf_no)\n",
    "                return shelf_no\n",
    "            else:\n",
    "                continue\n",
    "    #return shelf_no\n",
    "    \n",
    "\n",
    "#find_shelf(input('Введи номер документа: '))\n",
    "\n",
    "\n",
    "def doc_list():\n",
    "    \n",
    "    for d in documents:\n",
    "        result_str=''\n",
    "        for k,v in d.items():\n",
    "            #print('Val',v)\n",
    "            result_str= result_str+' \"'+v+'\"'\n",
    "        print(result_str)\n",
    "    \n",
    "#doc_list()\n",
    "\n",
    "\n",
    "def add_shelf(sh_no):\n",
    "    directories[sh_no]=[]\n",
    "    print (directories)#Control-line\n",
    "    \n",
    "    return print('Полка №', sh_no, ' добавлена.')\n",
    "\n",
    "\n",
    "#add_shelf(input('Введите номер новой полки: '))\n",
    "\n",
    "\n",
    "def delete(doc_no):\n",
    "    #print ('Start',directories.items())\n",
    "    for shelf, docs in directories.items():\n",
    "        if doc_no in docs:\n",
    "            #print ('index', docs.index(doc_no))#Control-line\n",
    "            del docs[docs.index(doc_no)]\n",
    "            print('Документ №', doc_no, 'удалён из перечня полок.' ) \n",
    "        else:  continue #print('Указанный документ не существует')\n",
    "        \n",
    "    #print ('Finish',directories.items())#Control-line\n",
    "    ind = 0\n",
    "    i = 0\n",
    "    #print('Start doc list', documents)\n",
    "    \n",
    "    for item in documents:\n",
    "        \n",
    "        #print('ind',ind)\n",
    "        #print('Start item', item.values())\n",
    "        for keys, values in item.items():\n",
    "            \n",
    "            \n",
    "            if keys == 'number'and values == doc_no:\n",
    "                             \n",
    "                del(documents[ind])# Запутался с расчётом индекса!!! где-то ошибка в его рачёте..вроде норм\n",
    "                \n",
    "                #print (ind)\n",
    "                \n",
    "                #print('True') #Control-line\n",
    "            else: continue\n",
    "        i+=1\n",
    "        ind+=1\n",
    "                #print('False') #Control-line\n",
    "        \n",
    "        #del(documents[ind])\n",
    "            #print('Fin item', item.values())\n",
    "    print('Finish doc list', documents) #Control-line\n",
    "    print ('Документ №', doc_no, 'удалён из папок.')\n",
    "    #НЕ ЗАКОНЧЕНО!!!  !!!! Вставить проверку существования документа!!!!  \n",
    "    \n",
    "    \n",
    "    \n",
    "    return print()\n",
    "\n",
    "\n",
    "def move(doc_no, shelf_no):\n",
    "    #print (doc_no, shelf_no)#Control-line\n",
    "    print('Before operation',directories)\n",
    "    old_shelf = find_shelf(doc_no)\n",
    "    #print('Old shelf', old_shelf)\n",
    "    \n",
    "    for shelf, doc_nums in directories.items():\n",
    "        \n",
    "        #print('Old Shelf',shelf,'Old Documents', doc_nums)\n",
    "        if shelf == shelf_no and old_shelf!= shelf_no:\n",
    "            #print('Bingo')\n",
    "            doc_nums.append(doc_no)\n",
    "            #print('New_Shelf',shelf,'New_Documents', doc_nums)\n",
    "        elif doc_no in doc_nums and shelf == old_shelf and shelf_no!= old_shelf:\n",
    "            del doc_nums[doc_nums.index(doc_no)]\n",
    "            #print('New2_Shelf',shelf,'New2_Documents', doc_nums)\n",
    "            \n",
    "     \n",
    "    print('After operation',directories)   \n",
    "    \n",
    "    return \n",
    "\n",
    "\n",
    "\n",
    "def add_doc (doc_no, doc_type, owner_name, shelf_no):\n",
    "    #print(doc_no, doc_type, owner_name, shelf_no)#Control-line\n",
    "    documents.append({'type': doc_type, 'number': doc_no, 'name': owner_name})\n",
    "    print(documents)#Control-line\n",
    "    \n",
    "    for shelf, doc_nums in directories.items():\n",
    "        \n",
    "        print('Shelf',shelf,'Documents', doc_nums)\n",
    "        if shelf == shelf_no:\n",
    "            #print('Bingo')\n",
    "            doc_nums.append(doc_no)\n",
    "        else:\n",
    "            print('Полка с данным номером не существует') \n",
    "            ####!!!Реализовать проверку на наличие полки по методу .get/// if ответ не fail двигаемся дальше \n",
    "    \n",
    "    print(directories)\n",
    "    \n",
    "    \n",
    "    return\n",
    "\n",
    "\n",
    "#add_doc(doc_no = input('Введите номер документа: '), doc_type = input('Введите вид документа: '), owner_name = input('Введите Имя владельца документа: '), shelf_no = input('Введите номер полки: '))\n",
    "    \n",
    "comand = input('Введите команду: ')\n",
    "if comand == 'p':\n",
    "    find_name(input('Введите номер документа: '))\n",
    "elif comand == 's':\n",
    "    find_shelf(input('Введи номер документа: '))\n",
    "elif comand == 'l':\n",
    "    doc_list()\n",
    "elif comand == 'as':\n",
    "    add_shelf(input('Введите номер новой полки: '))\n",
    "elif comand == 'd':\n",
    "    delete(input('Введите номер документа для удаления: '))\n",
    "elif comand == 'a':\n",
    "    add_doc(doc_no = input('Введите номер документа: '), doc_type = input('Введите вид документа: '), owner_name = input('Введите Имя владельца документа: '), shelf_no = input('Введите номер полки: '))\n",
    "elif comand == 'm':\n",
    "    move(doc_no = input('Введите номер переносимого документа: '),shelf_no = input('Введите номер целевой папки: '))\n",
    "else:\n",
    "    print('Unknown command')\n",
    "    \n",
    "\n"
   ]
  },
  {
   "cell_type": "code",
   "execution_count": 7,
   "metadata": {},
   "outputs": [
    {
     "name": "stdout",
     "output_type": "stream",
     "text": [
      "Введите команду: l\n"
     ]
    },
    {
     "ename": "NameError",
     "evalue": "name 'doc_list' is not defined",
     "output_type": "error",
     "traceback": [
      "\u001b[1;31m---------------------------------------------------------------------------\u001b[0m",
      "\u001b[1;31mNameError\u001b[0m                                 Traceback (most recent call last)",
      "\u001b[1;32m<ipython-input-7-816de33bccf3>\u001b[0m in \u001b[0;36m<module>\u001b[1;34m\u001b[0m\n\u001b[0;32m      5\u001b[0m     \u001b[0mfind_shelf\u001b[0m\u001b[1;33m(\u001b[0m\u001b[0minput\u001b[0m\u001b[1;33m(\u001b[0m\u001b[1;34m'Введи номер документа: '\u001b[0m\u001b[1;33m)\u001b[0m\u001b[1;33m)\u001b[0m\u001b[1;33m\u001b[0m\u001b[1;33m\u001b[0m\u001b[0m\n\u001b[0;32m      6\u001b[0m \u001b[1;32melif\u001b[0m \u001b[0mcomand\u001b[0m \u001b[1;33m==\u001b[0m \u001b[1;34m'l'\u001b[0m\u001b[1;33m:\u001b[0m\u001b[1;33m\u001b[0m\u001b[1;33m\u001b[0m\u001b[0m\n\u001b[1;32m----> 7\u001b[1;33m     \u001b[0mdoc_list\u001b[0m\u001b[1;33m(\u001b[0m\u001b[1;33m)\u001b[0m\u001b[1;33m\u001b[0m\u001b[1;33m\u001b[0m\u001b[0m\n\u001b[0m\u001b[0;32m      8\u001b[0m \u001b[1;32melif\u001b[0m \u001b[0mcomand\u001b[0m \u001b[1;33m==\u001b[0m \u001b[1;34m'as'\u001b[0m\u001b[1;33m:\u001b[0m\u001b[1;33m\u001b[0m\u001b[1;33m\u001b[0m\u001b[0m\n\u001b[0;32m      9\u001b[0m     \u001b[0madd_shelf\u001b[0m\u001b[1;33m(\u001b[0m\u001b[0minput\u001b[0m\u001b[1;33m(\u001b[0m\u001b[1;34m'Введите номер новой полки: '\u001b[0m\u001b[1;33m)\u001b[0m\u001b[1;33m)\u001b[0m\u001b[1;33m\u001b[0m\u001b[1;33m\u001b[0m\u001b[0m\n",
      "\u001b[1;31mNameError\u001b[0m: name 'doc_list' is not defined"
     ]
    }
   ],
   "source": [
    "comand = input('Введите команду: ')\n",
    "if comand == 'p':\n",
    "    find_name(input('Введите номер документа: '))\n",
    "elif comand == 's':\n",
    "    find_shelf(input('Введи номер документа: '))\n",
    "elif comand == 'l':\n",
    "    doc_list()\n",
    "elif comand == 'as':\n",
    "    add_shelf(input('Введите номер новой полки: '))\n",
    "elif comand == 'd':\n",
    "    delete(input('Введите номер документа для удаления: '))\n",
    "elif comand == 'a':\n",
    "    add_doc(doc_no = input('Введите номер документа: '), doc_type = input('Введите вид документа: '), owner_name = input('Введите Имя владельца документа: '), shelf_no = input('Введите номер полки: '))\n",
    "elif comand == 'm':\n",
    "    move(doc_no = input('Введите номер переносимого документа: '),shelf_no = input('Введите номер целевой папки: '))\n",
    "else:\n",
    "    print('Unknown command')\n"
   ]
  },
  {
   "cell_type": "code",
   "execution_count": 4,
   "metadata": {},
   "outputs": [
    {
     "name": "stdout",
     "output_type": "stream",
     "text": [
      "Введите номер документа: 10006\n",
      "Владелец документа:  Аристарх Павлов\n"
     ]
    }
   ],
   "source": [
    "\n",
    "\n",
    "def find_name(doc_num):\n",
    "    for item in documents:\n",
    "        if doc_num in item.values():\n",
    "            #print(item.get('name'))\n",
    "            #print (name)#Control-line\n",
    "            result= item.get('name')\n",
    "    print('Владелец документа: ', result)\n",
    "    #return print('Владелец документа: ', result)\n",
    "\n",
    "find_name(input('Введите номер документа: '))\n",
    "\n"
   ]
  },
  {
   "cell_type": "code",
   "execution_count": 51,
   "metadata": {},
   "outputs": [
    {
     "name": "stdout",
     "output_type": "stream",
     "text": [
      "Введи номер документа: 10006\n",
      "Документ находится на полке №:  2\n"
     ]
    },
    {
     "data": {
      "text/plain": [
       "'2'"
      ]
     },
     "execution_count": 51,
     "metadata": {},
     "output_type": "execute_result"
    }
   ],
   "source": [
    "\n",
    "def find_shelf(doc_num):\n",
    "    for shelf_no, values in directories.items():\n",
    "        for item in values:\n",
    "            #print(item)\n",
    "            if item == doc_num:\n",
    "                print('Документ находится на полке №: ', shelf_no)\n",
    "                return shelf_no\n",
    "            else:\n",
    "                continue\n",
    "    #return shelf_no\n",
    "    \n",
    "\n",
    "find_shelf(input('Введи номер документа: '))\n",
    "    \n",
    "    "
   ]
  },
  {
   "cell_type": "code",
   "execution_count": 52,
   "metadata": {},
   "outputs": [
    {
     "name": "stdout",
     "output_type": "stream",
     "text": [
      " \"passport\" \"2207 876234\" \"Василий Гупкин\"\n",
      " \"invoice\" \"11-2\" \"Геннадий Покемонов\"\n",
      " \"insurance\" \"10006\" \"Аристарх Павлов\"\n"
     ]
    }
   ],
   "source": [
    "def doc_list():\n",
    "    \n",
    "    for d in documents:\n",
    "        result_str=''\n",
    "        for k,v in d.items():\n",
    "            #print('Val',v)\n",
    "            result_str= result_str+' \"'+v+'\"'\n",
    "        print(result_str)\n",
    "    \n",
    "doc_list()"
   ]
  },
  {
   "cell_type": "code",
   "execution_count": 53,
   "metadata": {
    "scrolled": true
   },
   "outputs": [
    {
     "name": "stdout",
     "output_type": "stream",
     "text": [
      "Введите номер новой полки: 4\n",
      "{'1': ['2207 876234', '11-2', '5455 028765'], '2': ['10006', '5400 028765', '5455 002299'], '3': [], '4': []}\n",
      "Полка № 4  добавлена.\n"
     ]
    }
   ],
   "source": [
    "def add_shelf(sh_no):\n",
    "    directories[sh_no]=[]\n",
    "    print (directories)#Control-line\n",
    "    \n",
    "    return print('Полка №', sh_no, ' добавлена.')\n",
    "\n",
    "\n",
    "add_shelf(input('Введите номер новой полки: '))\n"
   ]
  },
  {
   "cell_type": "code",
   "execution_count": 54,
   "metadata": {},
   "outputs": [
    {
     "name": "stdout",
     "output_type": "stream",
     "text": [
      "Введите номер документа для удаления: 10006\n",
      "Документ № 10006 удалён из перечня полок.\n",
      "Finish doc list [{'type': 'passport', 'number': '2207 876234', 'name': 'Василий Гупкин'}, {'type': 'invoice', 'number': '11-2', 'name': 'Геннадий Покемонов'}]\n",
      "Документ № 10006 удалён из папок.\n",
      "\n"
     ]
    }
   ],
   "source": [
    "def delete(doc_no):\n",
    "    #print ('Start',directories.items())\n",
    "    for shelf, docs in directories.items():\n",
    "        if doc_no in docs:\n",
    "            #print ('index', docs.index(doc_no))#Control-line\n",
    "            del docs[docs.index(doc_no)]\n",
    "            print('Документ №', doc_no, 'удалён из перечня полок.' ) \n",
    "        else:  continue #print('Указанный документ не существует')\n",
    "        \n",
    "    #print ('Finish',directories.items())#Control-line\n",
    "    ind = 0\n",
    "    i = 0\n",
    "    #print('Start doc list', documents)\n",
    "    \n",
    "    for item in documents:\n",
    "        \n",
    "        #print('ind',ind)\n",
    "        #print('Start item', item.values())\n",
    "        for keys, values in item.items():\n",
    "            \n",
    "            \n",
    "            if keys == 'number'and values == doc_no:\n",
    "                             \n",
    "                del(documents[ind])# Запутался с расчётом индекса!!! где-то ошибка в его рачёте..вроде норм\n",
    "                \n",
    "                #print (ind)\n",
    "                \n",
    "                #print('True') #Control-line\n",
    "            else: continue\n",
    "        i+=1\n",
    "        ind+=1\n",
    "                #print('False') #Control-line\n",
    "        \n",
    "        #del(documents[ind])\n",
    "            #print('Fin item', item.values())\n",
    "    print('Finish doc list', documents) #Control-line\n",
    "    print ('Документ №', doc_no, 'удалён из папок.')\n",
    "    #НЕ ЗАКОНЧЕНО!!!  !!!! Вставить проверку существования документа!!!!  \n",
    "    \n",
    "    \n",
    "    \n",
    "    return print()\n",
    "delete(input('Введите номер документа для удаления: '))"
   ]
  },
  {
   "cell_type": "code",
   "execution_count": 55,
   "metadata": {},
   "outputs": [
    {
     "name": "stdout",
     "output_type": "stream",
     "text": [
      "Введите номер переносимого документа: 11-2\n",
      "Введите номер целевой папки: 4\n",
      "Before operation {'1': ['2207 876234', '11-2', '5455 028765'], '2': ['5400 028765', '5455 002299'], '3': [], '4': []}\n",
      "Документ находится на полке №:  1\n",
      "After operation {'1': ['2207 876234', '5455 028765'], '2': ['5400 028765', '5455 002299'], '3': [], '4': ['11-2']}\n"
     ]
    }
   ],
   "source": [
    "def move(doc_no, shelf_no):\n",
    "    #print (doc_no, shelf_no)#Control-line\n",
    "    print('Before operation',directories)\n",
    "    old_shelf = find_shelf(doc_no)\n",
    "    #print('Old shelf', old_shelf)\n",
    "    \n",
    "    for shelf, doc_nums in directories.items():\n",
    "        \n",
    "        #print('Old Shelf',shelf,'Old Documents', doc_nums)\n",
    "        if shelf == shelf_no and old_shelf!= shelf_no:\n",
    "            #print('Bingo')\n",
    "            doc_nums.append(doc_no)\n",
    "            #print('New_Shelf',shelf,'New_Documents', doc_nums)\n",
    "        elif doc_no in doc_nums and shelf == old_shelf and shelf_no!= old_shelf:\n",
    "            del doc_nums[doc_nums.index(doc_no)]\n",
    "            #print('New2_Shelf',shelf,'New2_Documents', doc_nums)\n",
    "            \n",
    "     \n",
    "    print('After operation',directories)   \n",
    "    \n",
    "    return \n",
    "\n",
    "move(doc_no = input('Введите номер переносимого документа: '),shelf_no = input('Введите номер целевой папки: '))\n",
    "    \n",
    "#по сути необходимо переместить значение(добавить в новый и удалить из старого) из одного словаря где значение список\n",
    "#в другой словарь где ключ-полка а значение- список документов\n",
    "# найти запомнить создать полку и вставить, удалить со старой полки\n",
    "# m – move – команда, которая спросит номер документа и целевую полку и найдёт ( find_doc,copy, delete, add_doc)\n",
    "#переместит его с текущей полки на целевую. Корректно обработайте кейсы, \n",
    "#когда пользователь пытается переместить несуществующий документ или переместить документ на несуществующую полку;  \n"
   ]
  },
  {
   "cell_type": "code",
   "execution_count": 57,
   "metadata": {
    "scrolled": true
   },
   "outputs": [
    {
     "name": "stdout",
     "output_type": "stream",
     "text": [
      "Введите номер документа: 12345\n",
      "Введите вид документа: ertre\n",
      "Введите Имя владельца документа: rtytr ere\n",
      "Введите номер полки: 3\n",
      "[{'type': 'passport', 'number': '2207 876234', 'name': 'Василий Гупкин'}, {'type': 'invoice', 'number': '11-2', 'name': 'Геннадий Покемонов'}, {'type': 'wert', 'number': '007', 'name': 'gf'}, {'type': 'ertre', 'number': '12345', 'name': 'rtytr ere'}]\n",
      "Shelf 1 Documents ['2207 876234', '5455 028765']\n",
      "Полка с данным номером не существует\n",
      "Shelf 2 Documents ['5400 028765', '5455 002299']\n",
      "Полка с данным номером не существует\n",
      "Shelf 3 Documents []\n",
      "Shelf 4 Documents ['11-2']\n",
      "Полка с данным номером не существует\n",
      "{'1': ['2207 876234', '5455 028765'], '2': ['5400 028765', '5455 002299'], '3': ['12345'], '4': ['11-2']}\n"
     ]
    }
   ],
   "source": [
    "def add_doc (doc_no, doc_type, owner_name, shelf_no):\n",
    "    #print(doc_no, doc_type, owner_name, shelf_no)#Control-line\n",
    "    documents.append({'type': doc_type, 'number': doc_no, 'name': owner_name})\n",
    "    print(documents)#Control-line\n",
    "    \n",
    "    for shelf, doc_nums in directories.items():\n",
    "        \n",
    "        print('Shelf',shelf,'Documents', doc_nums)\n",
    "        if shelf == shelf_no:\n",
    "            #print('Bingo')\n",
    "            doc_nums.append(doc_no)\n",
    "        else:\n",
    "            print('Полка с данным номером не существует') \n",
    "            ####!!!Реализовать проверку на наличие полки по методу .get/// if ответ не fail двигаемся дальше \n",
    "    \n",
    "    print(directories)\n",
    "    \n",
    "    \n",
    "    return\n",
    "\n",
    "\n",
    "add_doc(doc_no = input('Введите номер документа: '), doc_type = input('Введите вид документа: '), owner_name = input('Введите Имя владельца документа: '), shelf_no = input('Введите номер полки: '))\n",
    "    \n",
    "    \n",
    "#a – add – команда, которая добавит новый документ в каталог \n",
    "#и в перечень полок, спросив его номер, тип, имя владельца и номер полки, на котором он будет храниться.  \n",
    "#directories = {\n",
    "    #'1': ['2207 876234', '11-2', '5455 028765'], "
   ]
  },
  {
   "cell_type": "markdown",
   "metadata": {},
   "source": [
    "Перечень полок, на которых находятся документы хранится в следующем виде:"
   ]
  },
  {
   "cell_type": "markdown",
   "metadata": {},
   "source": [
    "Необходимо реализовать пользовательские команды (внимание! это не название функций, которые должны быть выразительными, а команды, которые вводит пользователь, чтобы получить необходимый результат):\n",
    "  \n",
    "- p – people – команда, которая спросит номер документа и выведет имя человека, которому он принадлежит;  \n",
    "- s – shelf – команда, которая спросит номер документа и выведет номер полки, на которой он находится  \n",
    "Правильно обработайте ситуацию, когда пользователь будет вводить несуществующий документ.\n",
    "- l – list – команда, которая выведет список всех документов в формате   \n",
    "**passport \"2207 876234\" \"Василий Гупкин\"**  \n",
    "- as – add shelf – команда, которая спросит номер новой полки и добавит ее в перечень\n",
    "- d – delete – команда, которая спросит номер документа и удалит его из каталога и из перечня полок. Предусмотрите сценарий, когда пользователь вводит несуществующий документ;  \n",
    "- m – move – команда, которая спросит номер документа и целевую полку и переместит его с текущей полки на целевую. Корректно обработайте кейсы, когда пользователь пытается переместить несуществующий документ или переместить документ на несуществующую полку;  \n",
    "- a – add – команда, которая добавит новый документ в каталог и в перечень полок, спросив его номер, тип, имя владельца и номер полки, на котором он будет храниться."
   ]
  },
  {
   "cell_type": "code",
   "execution_count": null,
   "metadata": {},
   "outputs": [],
   "source": [
    "\n"
   ]
  },
  {
   "cell_type": "code",
   "execution_count": null,
   "metadata": {},
   "outputs": [],
   "source": []
  }
 ],
 "metadata": {
  "kernelspec": {
   "display_name": "Python 3",
   "language": "python",
   "name": "python3"
  },
  "language_info": {
   "codemirror_mode": {
    "name": "ipython",
    "version": 3
   },
   "file_extension": ".py",
   "mimetype": "text/x-python",
   "name": "python",
   "nbconvert_exporter": "python",
   "pygments_lexer": "ipython3",
   "version": "3.7.4"
  }
 },
 "nbformat": 4,
 "nbformat_minor": 2
}
