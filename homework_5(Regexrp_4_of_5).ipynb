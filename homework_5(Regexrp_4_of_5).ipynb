{
 "cells": [
  {
   "cell_type": "markdown",
   "metadata": {},
   "source": [
    "# Домашнее задание к лекции \"Регулярные выражения\"\n",
    "Для зачета необходимо выполнить 4 задания.  \n",
    "Для зачета с отличием – все."
   ]
  },
  {
   "cell_type": "markdown",
   "metadata": {},
   "source": [
    "## Задание 1"
   ]
  },
  {
   "cell_type": "markdown",
   "metadata": {},
   "source": [
    "Напишите функцию, которая принимает на вход строку и проверяет является ли она валидным транспортным номером. Если да, то функция должна возвращать отдельно номер и регион."
   ]
  },
  {
   "cell_type": "markdown",
   "metadata": {},
   "source": [
    "Пишем функцию на ввод текста и проверяем его через re.match(??) на соответствие шаблону (Любая буква 1, три цифры, две буквы, две или три цифры)\n",
    "Если совпалдает то тест пройден.\n"
   ]
  },
  {
   "cell_type": "code",
   "execution_count": 16,
   "metadata": {},
   "outputs": [
    {
     "name": "stdout",
     "output_type": "stream",
     "text": [
      "Введите номерной знак автомобиля: T 777 TT 77\n",
      "('Номер автомобиля ', 'T777TT', ' регион: ', '77')\n"
     ]
    }
   ],
   "source": [
    "import re\n",
    "def num_validator(num):\n",
    "    #print (num)\n",
    "    num = re.sub(\" \", \"\", num)\n",
    "    reg_ex = '^[A-ZА-Яа-я]{1}\\d{3}[A-ZА-Яа-я]{2}\\d{2,3}$'\n",
    "   \n",
    "    result = re.match(reg_ex, num)\n",
    "    \n",
    "    if result:\n",
    "        regex_num = '^\\w{6}'\n",
    "        reg_num = re.findall(regex_num, num)\n",
    "        #print('Номер автомобиля: ', reg_num[0])\n",
    "        reg = re.findall('\\d{2,3}$', num)\n",
    "        #print('Регион: ', reg[0])\n",
    "        infoline =  'Номер автомобиля ', reg_num[0], ' регион: ', reg[0]\n",
    "       \n",
    "    else:\n",
    "        infoline =  'Введён не корректный регистрационный номер'\n",
    "        \n",
    "    return print(infoline)\n",
    "\n",
    "num_validator(input('Введите номерной знак автомобиля: '))\n"
   ]
  },
  {
   "cell_type": "markdown",
   "metadata": {},
   "source": [
    "## Задание 2"
   ]
  },
  {
   "cell_type": "markdown",
   "metadata": {},
   "source": [
    "Напишите функцию, которая проверяет e-mail адрес на валидность по стандарту RFC822: http://www.w3.org/Protocols/rfc822/. Для этого постарайтесь написать (в крайнем случае найти) самый полный шаблон для проверки e-mail адресов через регулярное выражение. Разберитесь и напишите примеры, какие ваш шаблон может не охватить."
   ]
  },
  {
   "cell_type": "code",
   "execution_count": 16,
   "metadata": {},
   "outputs": [
    {
     "name": "stdout",
     "output_type": "stream",
     "text": [
      "Введите e-mail:Muhammed.(I am  the greatest) Ali @(the)Vegas.WBA\n",
      "Muhammed.(I am  the greatest) Ali @(the)Vegas.WBA\n",
      "Проверка пройдена\n"
     ]
    }
   ],
   "source": [
    "#C полным описанием стандарта и regex шаблоном на 2 страницы заморачиваться не стал-\n",
    "# решил написать самостаятельно максимально полный, но краткий и \"читаемый\" шаблон Regex\n",
    "import re\n",
    "def rcftester (email):\n",
    "    email_regex = '^.+@{1}.+\\.[A-Za-z]+$'\n",
    "        # я исключил возможность использования цифр в домене, однако в доменах второго уровня они могут быть.\n",
    "        # проходит почта с двумя @ @, убрать пока не могу хотя указал  @{1} в шаблоне\n",
    "        # Но проверять email Regexp-ом и в соответствии с RFC822: http://www.w3.org/Protocols/rfc822/ это глупое занятие!!!\n",
    "    \n",
    "    \n",
    "    #email = re.sub(\" \", \"\", email) #включив строку можно принудительно убрать пробелы если они случайны\n",
    "    print(email)\n",
    "    result = re.match (email_regex, email)\n",
    "    if result:\n",
    "        print ( 'Проверка пройдена')\n",
    "    else:\n",
    "        print ('Проверка не пройдена')\n",
    "\n",
    "    \n",
    "    \n",
    "    return \n",
    "\n",
    "#rcftester ('Muhammed.(I am  the greatest) Ali @(the)Vegas.WBA')\n",
    "rcftester (input('Введите e-mail:'))"
   ]
  },
  {
   "cell_type": "markdown",
   "metadata": {},
   "source": [
    "## Задание 3\n",
    "При помощи регулярных выражений напишите функцию, которая будет возвращать акроним переданного в нее текста."
   ]
  },
  {
   "cell_type": "code",
   "execution_count": 3,
   "metadata": {},
   "outputs": [
    {
     "name": "stdout",
     "output_type": "stream",
     "text": [
      "Введите текст: Федеральная Служба Охраны\n"
     ]
    },
    {
     "data": {
      "text/plain": [
       "'ФСО'"
      ]
     },
     "execution_count": 3,
     "metadata": {},
     "output_type": "execute_result"
    }
   ],
   "source": [
    "#Из определения акронима сделал вывод что это устоявееся абривиатура, поэтому решил использовать первые буквы слов.\n",
    "\n",
    "import re\n",
    "def acronimator (text):\n",
    "    regex = '[\\w]+'\n",
    "    #acronim = re.search(regex, text)\n",
    "    acronim = str()\n",
    "    table = re.findall( regex, text)\n",
    "    for word in table:\n",
    "        acronim += word[0]\n",
    "        #print (word[0])\n",
    "    \n",
    "    #print(acronim)\n",
    "    result = acronim\n",
    "    return result\n",
    "\n",
    "acronimator(input('Введите текст: '))\n",
    "#acronimator ('Байкало Амурская Магистраль')\n",
    "\n"
   ]
  },
  {
   "cell_type": "markdown",
   "metadata": {},
   "source": [
    "## Задание 4\n",
    "Напишите функцию, которая будет удалять все последовательные повторы слов из заданной строки."
   ]
  },
  {
   "cell_type": "code",
   "execution_count": 107,
   "metadata": {},
   "outputs": [
    {
     "data": {
      "text/plain": [
       "'Привет, как дела1 у! т-ебя ? ?'"
      ]
     },
     "execution_count": 107,
     "metadata": {},
     "output_type": "execute_result"
    }
   ],
   "source": [
    "#second chance\n",
    "\n",
    "import re\n",
    "text = 'Привет, привет, как дела1 дела1 у! у! у! т-ебя т-ебя ? ?'#Здесь пишем проверяемый на повторения текст\n",
    "def repdel (text):\n",
    "    \n",
    "    regex = r'\\S*\\s?'\n",
    "    textlist = re.findall(regex, text)\n",
    "    i = 0 #Control\n",
    "    #print(i,'LIST:',textlist)\n",
    "    preword = str()\n",
    "    truetext = str()\n",
    "    #print('/',textlist[6],'/',textlist[8],'/', textlist[6] == textlist[8])#control\n",
    "    \n",
    "    for item in textlist:\n",
    "        curword = item\n",
    "        i += 1\n",
    "        if preword.lower() != curword.lower():\n",
    "            #print('Step',i,'Условие', preword != curword)\n",
    "            truetext += curword #+\" \"#если писать regexp без \"захвата\" пробелов\n",
    "            #print( 'TEXT:',truetext)\n",
    "            preword = curword\n",
    "            #truetext += curword +' '\n",
    "        else: \n",
    "            continue\n",
    "            #print ('Step',i,'Условие',preword != curword,'TEXT NO', truetext)\n",
    "            \n",
    "            \n",
    "        preword = curword\n",
    "        #print(preword, curword) #Control\n",
    "        \n",
    "#Не работает с многократно( без пробелов) повторяющимися знаками препинания... а может так и задумывал автор?? например многоточие...            \n",
    "        \n",
    "   \n",
    "    return truetext\n",
    "\n",
    "repdel(text)"
   ]
  },
  {
   "cell_type": "markdown",
   "metadata": {},
   "source": [
    "## Задание 5\n",
    "Напишите функцию, которая будет проверять номер сотового телефона на валидность, если он валиден, то переводить его в формат:   \n",
    "+7(xxx)-xxx-xx-xx  \n",
    "Постарайтесь предусмотреть как можно больше адекватных форматов изначального ввода номера.\n",
    "Примеры правильных и неправильных форматов:\n",
    "- +1 555 555-55-55;\n",
    "- 5555555555;\n",
    "- 555555555;\n",
    "- 8(555)555-55-55;\n",
    "- +7 555 555 55 55;\n",
    "- 7(555) 555-55-55;\n",
    "- +7 555+555+55+55."
   ]
  },
  {
   "cell_type": "code",
   "execution_count": 6,
   "metadata": {},
   "outputs": [
    {
     "name": "stdout",
     "output_type": "stream",
     "text": [
      "+79992223432\n",
      "<re.Match object; span=(0, 12), match='+79992223432'>\n",
      "<re.Match object; span=(0, 12), match='+79992223432'>\n"
     ]
    }
   ],
   "source": [
    "#Пока в раздумьях\n",
    "\n",
    "import re\n",
    "def valid_num (num):\n",
    "    regex = r'(s*[+7|8])(\\d{2,3})(\\d{6,8})'\n",
    "    result = re.search(regex, num)\n",
    "    print(result[0])\n",
    "    if result:\n",
    "        print (result)\n",
    "    else: \n",
    "        print('NO')\n",
    "    \n",
    "    \n",
    "    return result\n",
    "\n",
    "#valid_num (input('Введите\n",
    "\n",
    "print(valid_num('+79992223432'))\n"
   ]
  }
 ],
 "metadata": {
  "kernelspec": {
   "display_name": "Python 3",
   "language": "python",
   "name": "python3"
  },
  "language_info": {
   "codemirror_mode": {
    "name": "ipython",
    "version": 3
   },
   "file_extension": ".py",
   "mimetype": "text/x-python",
   "name": "python",
   "nbconvert_exporter": "python",
   "pygments_lexer": "ipython3",
   "version": "3.7.4"
  }
 },
 "nbformat": 4,
 "nbformat_minor": 2
}
