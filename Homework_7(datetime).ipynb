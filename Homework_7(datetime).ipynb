{
 "cells": [
  {
   "cell_type": "markdown",
   "metadata": {},
   "source": [
    "Домашнее задание"
   ]
  },
  {
   "cell_type": "markdown",
   "metadata": {},
   "source": [
    "Задание 1\n",
    "Напишите функцию date_range,\n",
    "которая возвращает список дней между датами start_date и end_date. Даты должны вводиться в формате YYYY-MM-DD."
   ]
  },
  {
   "cell_type": "code",
   "execution_count": 1,
   "metadata": {},
   "outputs": [
    {
     "data": {
      "text/plain": [
       "['30.06.2020']"
      ]
     },
     "execution_count": 1,
     "metadata": {},
     "output_type": "execute_result"
    }
   ],
   "source": [
    "from datetime import datetime\n",
    "from datetime import timedelta\n",
    "\n",
    "            \n",
    "def date_range(start_date, end_date):\n",
    "    start_date = datetime.strptime(start_date, '%Y-%m-%d')\n",
    "    end_date = datetime.strptime(end_date, '%Y-%m-%d')\n",
    "    #print(type(start_date),start_date, type(end_date), end_date)#control\n",
    "    date_list=[]\n",
    "    while start_date < end_date:\n",
    "        #print( start_date.strftime('%d %m %Y'))#Control\n",
    "        date_list.append(start_date.strftime('%d.%m.%Y'))\n",
    "        start_date += timedelta(days = 1)\n",
    "        \n",
    "    \n",
    "    \n",
    "    \n",
    "    return date_list\n",
    "\n",
    "date_range ('2020-06-30', '2020-07-01')\n",
    "\n",
    "\n"
   ]
  },
  {
   "cell_type": "markdown",
   "metadata": {},
   "source": [
    "Задание 2\n",
    "Дополните функцию из первого задания проверкой на корректность дат. В случае неверного формата или если start_date > end_date должен возвращаться пустой список."
   ]
  },
  {
   "cell_type": "code",
   "execution_count": 2,
   "metadata": {},
   "outputs": [
    {
     "data": {
      "text/plain": [
       "['10.02.2020',\n",
       " '11.02.2020',\n",
       " '12.02.2020',\n",
       " '13.02.2020',\n",
       " '14.02.2020',\n",
       " '15.02.2020',\n",
       " '16.02.2020',\n",
       " '17.02.2020',\n",
       " '18.02.2020',\n",
       " '19.02.2020']"
      ]
     },
     "execution_count": 2,
     "metadata": {},
     "output_type": "execute_result"
    }
   ],
   "source": [
    "from datetime import datetime\n",
    "from datetime import timedelta\n",
    "\n",
    "\n",
    "def date_range(start_date, end_date):\n",
    "    \n",
    "    try:\n",
    "        start_date = datetime.strptime(start_date, '%Y-%m-%d')\n",
    "        end_date = datetime.strptime(end_date, '%Y-%m-%d')\n",
    "        #print(type(start_date),start_date, type(end_date), end_date)#control\n",
    "        date_list=[]\n",
    "        if start_date <= end_date: #Возможно лишний блок т.к. при \"отрицательном периоде\" список и так пустой!!!\n",
    "            while start_date < end_date:\n",
    "                #print( start_date.strftime('%d %m %Y'))#Control\n",
    "                date_list.append(start_date.strftime('%d.%m.%Y'))\n",
    "                start_date += timedelta(days = 1)\n",
    "        else:\n",
    "            print('Неверно задан период')\n",
    "            date_list =[]\n",
    "    \n",
    "    \n",
    "    except ValueError:\n",
    "        print('Неверная дата или формат' )\n",
    "        date_list =[]\n",
    "    \n",
    "    \n",
    "    return date_list\n",
    "\n",
    "date_range ('2020-02-10', '2020-02-20')"
   ]
  },
  {
   "cell_type": "markdown",
   "metadata": {},
   "source": [
    "Задание 3\n",
    "Дан поток дат в формате YYYY-MM-DD, в которых встречаются некорректные значения:\n",
    "stream = ['2018-04-02', '2018-02-29', '2018-19-02']\n",
    "Напишите функцию, которая проверяет эти даты на корректность. Т. е. для каждой даты возвращает True (дата корректна) или False (некорректная дата). "
   ]
  },
  {
   "cell_type": "code",
   "execution_count": 3,
   "metadata": {},
   "outputs": [
    {
     "data": {
      "text/plain": [
       "{'2018-04-02': 'True',\n",
       " '2018-02-29': 'False',\n",
       " '2018-19-02': 'False',\n",
       " '2018-08-02': 'True',\n",
       " '2020-02-29': 'True',\n",
       " '2018-0-02': 'False',\n",
       " '3333-33-33': 'False'}"
      ]
     },
     "execution_count": 3,
     "metadata": {},
     "output_type": "execute_result"
    }
   ],
   "source": [
    "from datetime import datetime\n",
    "\n",
    "stream = ['2018-04-02', '2018-02-29', '2018-19-02','2018-08-02', '2020-02-29', '2018-0-02','3333-33-33']\n",
    "# Для проверки добавил данных в stream\n",
    "\n",
    "\n",
    "\n",
    "#Т.к. в условии не увидел формата в котором необходимо вернуть значения решил вывести информацию \n",
    "#ввиде словаря Дата:Значение(True/False), можно в принципе было сделать и кортежами смотря куда дальше информация пойдёт)) \n",
    "\n",
    "\n",
    "def datetester(datelist):\n",
    "    control_dic={}\n",
    "    for item in datelist:\n",
    "        try:\n",
    "            item_d = datetime.strptime(item, '%Y-%m-%d')#Если операция прошла то формат верен можно присвавать True\n",
    "            control_dic[item]= 'True' #Ошибки будут только на датах 2020-01-01 т.к. \n",
    "                                        #непонятен формат ввода YYYY-MM-DD или YYYY-DD-MM\n",
    "                                        #но это уже ошибка корректности ввода а не формата ввода.\n",
    "            #print (item,control_dic)#control\n",
    "            #print (item, 'True')#control если нужен текстовый вывод\n",
    "        except:\n",
    "            control_dic[item]= 'False'\n",
    "            #print (item, control_dic)#control\n",
    "            #print (item, 'False')#control если нужен текстовый вывод\n",
    "    \n",
    "    \n",
    "    \n",
    "    \n",
    "    return control_dic\n",
    "\n",
    "datetester(stream)\n",
    "\n",
    "\n"
   ]
  },
  {
   "cell_type": "markdown",
   "metadata": {},
   "source": [
    "Задание 4 (бонусное)\n",
    "Ваш коллега прислал код функции:\n",
    "\n",
    "DEFAULT_USER_COUNT = 3\n",
    "\n",
    "def delete_and_return_last_user(region, default_list=['A100', 'A101', 'A102']):\n",
    "    \"\"\"\n",
    "    Удаляет из списка default_list последнего пользователя \n",
    "    и возвращает ID нового последнего пользователя.\n",
    "    \"\"\"\n",
    "    element_to_delete = default_list[-1]\n",
    "    default_list.remove(element_to_delete)\n",
    "    \n",
    "    return default_list[DEFAULT_USER_COUNT-2]\n",
    "\n",
    "При однократном вызове этой функции все работает корректно:\n",
    "delete_and_return_last_user(1)\n",
    "'A101'\n",
    "\n",
    "Однако, при повторном вызове получается ошибка IndexError: list index out of range.\n",
    "\n",
    "Задание:\n",
    "1. Что значит ошибка list index out of range?\n",
    "2. Почему при первом запуске функция работает корректно, а при втором - нет?\n",
    "\n",
    "\n",
    "ОТВЕТ:\n",
    "\n",
    "\n",
    "1. Судя по ошибке (которую я многократно \"ловил\" на своих домашних заданиях с циклами))), проблема в том что при повторном вызове в списке уже нет элемента с данным индексом \n",
    "2. Если написать в одном блоке Jupiter то всегда работает корректно т.к. default_list обновляется при кждом запуске\n",
    "А вот если разделить по блокам и запускать блок с функцией, то функция пытается вернуть элемент списка,\n",
    "который на этот момент уже удалён и не существует: то есть при втором вызове удаляется значение и в списке остаётся \n",
    "1 элемент(с индексом [0]), а элемента с индексом DEFAULT_USER_COUNT-2= 1 к этому моменту нет.\n",
    "Некорректный расчёт индекса.....и зачем вообще здесь расчёт DEFAULT_USER_COUNT??? \n",
    "для вывода последнего User'а логично. на мой взгляд, не расчитывать индекс, а ставить [-1] и  try/except"
   ]
  },
  {
   "cell_type": "code",
   "execution_count": 13,
   "metadata": {},
   "outputs": [],
   "source": [
    "DEFAULT_USER_COUNT = 3\n",
    "default_list = ['A100', 'A101', 'A102','Тест1', 'TEST2','TEST-3']#добавил в список значений для тестов\n"
   ]
  },
  {
   "cell_type": "code",
   "execution_count": 19,
   "metadata": {},
   "outputs": [
    {
     "name": "stdout",
     "output_type": "stream",
     "text": [
      "Журнал пуст\n"
     ]
    }
   ],
   "source": [
    "def delete_and_return_last_user(region, default_list):\n",
    "    try:\n",
    "        element_to_delete = default_list[-1]\n",
    "        default_list.remove(element_to_delete)\n",
    "        #print(default_list)#Control\n",
    "        return default_list[-1]#поменял [DEFAULT_USER_COUNT-2] на [-1]\n",
    "    except:\n",
    "        print('Журнал пуст')\n",
    "\n",
    "delete_and_return_last_user(2,default_list)"
   ]
  },
  {
   "cell_type": "code",
   "execution_count": null,
   "metadata": {},
   "outputs": [],
   "source": []
  },
  {
   "cell_type": "code",
   "execution_count": null,
   "metadata": {},
   "outputs": [],
   "source": []
  }
 ],
 "metadata": {
  "kernelspec": {
   "display_name": "Python 3",
   "language": "python",
   "name": "python3"
  },
  "language_info": {
   "codemirror_mode": {
    "name": "ipython",
    "version": 3
   },
   "file_extension": ".py",
   "mimetype": "text/x-python",
   "name": "python",
   "nbconvert_exporter": "python",
   "pygments_lexer": "ipython3",
   "version": "3.7.4"
  }
 },
 "nbformat": 4,
 "nbformat_minor": 2
}
