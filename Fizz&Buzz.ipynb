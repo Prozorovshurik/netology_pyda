{
 "cells": [
  {
   "cell_type": "markdown",
   "metadata": {},
   "source": [
    "Задание 1\n",
    "https://ru.wikipedia.org/wiki/Fizz_buzz\n",
    "Начинающий произносит число “1”, и каждый следующий игрок прибавляет к предыдущему значению единицу. Когда число делится на три оно заменяется на fizz, если число делится на пять, то произносится buzz. Числа, делящиеся на три и пять одновременно заменяются на fizz buzz. Сделавший ошибку игрок исключается из игры.\n",
    "\n",
    "Типичная партия в fizz buzz выглядит так:\n",
    "1, 2, Fizz, 4, Buzz, Fizz, 7, 8, Fizz, Buzz, 11, Fizz, 13, 14, Fizz Buzz, 16, 17, Fizz, 19, Buzz, Fizz, 22, 23, Fizz, Buzz, 26, Fizz, 28, 29, Fizz Buzz, 31, 32, Fizz, 34, Buzz, Fizz, …\n",
    "\n",
    "Напишите код, выводящий на экран первые n элементов этой игры (естественно, корректные).\n"
   ]
  },
  {
   "cell_type": "code",
   "execution_count": 1,
   "metadata": {},
   "outputs": [
    {
     "name": "stdout",
     "output_type": "stream",
     "text": [
      "До какого числа хочешь сыграть? 12\n",
      "Напиши первое число 2\n",
      "2\n",
      "Fizz\n",
      "4\n",
      "Buzz\n",
      "Fizz\n",
      "7\n",
      "8\n",
      "Fizz\n",
      "Buzz\n",
      "11\n",
      "Fizz\n",
      "Стоп Игра!!!. Проверяй))\n"
     ]
    }
   ],
   "source": [
    "step= int(input(\"До какого числа хочешь сыграть? \"))\n",
    "count= int(input(\"Напиши первое число \"))\n",
    "\n",
    "while count <= step:\n",
    "    if count % 5 == 0 and count % 3 == 0:\n",
    "        print(\"Fizz Buzz\")\n",
    "    elif count % 3 == 0:\n",
    "        print(\"Fizz\")\n",
    "    elif count % 5 == 0:\n",
    "        print (\"Buzz\")\n",
    "    else:\n",
    "        print (count)\n",
    "    count = count+1\n",
    "    \n",
    "print(\"Стоп Игра!!!. Проверяй))\")\n",
    "    "
   ]
  },
  {
   "cell_type": "code",
   "execution_count": null,
   "metadata": {},
   "outputs": [],
   "source": []
  }
 ],
 "metadata": {
  "kernelspec": {
   "display_name": "Python 3",
   "language": "python",
   "name": "python3"
  },
  "language_info": {
   "codemirror_mode": {
    "name": "ipython",
    "version": 3
   },
   "file_extension": ".py",
   "mimetype": "text/x-python",
   "name": "python",
   "nbconvert_exporter": "python",
   "pygments_lexer": "ipython3",
   "version": "3.7.4"
  }
 },
 "nbformat": 4,
 "nbformat_minor": 2
}
